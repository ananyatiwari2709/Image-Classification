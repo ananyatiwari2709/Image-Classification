{
  "nbformat": 4,
  "nbformat_minor": 0,
  "metadata": {
    "colab": {
      "name": "Image Classification.ipynb",
      "provenance": [],
      "collapsed_sections": [],
      "authorship_tag": "ABX9TyM6FeTxvhWthoBxzHgJCK/q",
      "include_colab_link": true
    },
    "kernelspec": {
      "name": "python3",
      "display_name": "Python 3"
    }
  },
  "cells": [
    {
      "cell_type": "markdown",
      "metadata": {
        "id": "view-in-github",
        "colab_type": "text"
      },
      "source": [
        "<a href=\"https://colab.research.google.com/github/ananyatiwari2709/Mini-Project/blob/main/Image_Classification.ipynb\" target=\"_parent\"><img src=\"https://colab.research.google.com/assets/colab-badge.svg\" alt=\"Open In Colab\"/></a>"
      ]
    },
    {
      "cell_type": "code",
      "metadata": {
        "colab": {
          "base_uri": "https://localhost:8080/"
        },
        "id": "DfS3TlhUnZWW",
        "outputId": "cbfdb2cd-7c37-415b-e5f3-fcdda9a2d474"
      },
      "source": [
        "!pip install bing-image-downloader"
      ],
      "execution_count": 7,
      "outputs": [
        {
          "output_type": "stream",
          "text": [
            "Collecting bing-image-downloader\n",
            "  Downloading https://files.pythonhosted.org/packages/0d/bf/537a61030b84ae4cd5022d5c7b014fd9bc3ce7c02358919153a6658a61d3/bing_image_downloader-1.0.4-py3-none-any.whl\n",
            "Installing collected packages: bing-image-downloader\n",
            "Successfully installed bing-image-downloader-1.0.4\n"
          ],
          "name": "stdout"
        }
      ]
    },
    {
      "cell_type": "code",
      "metadata": {
        "id": "sHw9E8_trLyz"
      },
      "source": [
        "!mkdir images"
      ],
      "execution_count": 8,
      "outputs": []
    },
    {
      "cell_type": "code",
      "metadata": {
        "colab": {
          "base_uri": "https://localhost:8080/"
        },
        "id": "Bi5IbbV7rrms",
        "outputId": "a4fd856b-cb85-4df3-cd90-acebc134d32f"
      },
      "source": [
        "from bing_image_downloader import downloader\r\n",
        "downloader.download(\"cute cats\",limit=30,output_dir=\"images\",adult_filter_off=True)"
      ],
      "execution_count": 9,
      "outputs": [
        {
          "output_type": "stream",
          "text": [
            "\n",
            "\n",
            "[!!]Indexing page: 1\n",
            "\n",
            "[%] Indexed 30 Images on Page 1.\n",
            "\n",
            "===============================================\n",
            "\n",
            "[%] Downloading Image #1 from http://www.reportingday.com/wp-content/uploads/2018/06/Cat-Sleeping-Pics.jpg\n",
            "[%] File Downloaded !\n",
            "\n",
            "[%] Downloading Image #2 from https://i.ytimg.com/vi/SBjCQX7Lh2Q/maxresdefault.jpg\n",
            "[%] File Downloaded !\n",
            "\n",
            "[%] Downloading Image #3 from http://4.bp.blogspot.com/_dedcXqzPdxo/TRTkwvgijKI/AAAAAAAABt4/SRz-CDS30F0/s1600/Cat_pictures2.jpg\n",
            "[%] File Downloaded !\n",
            "\n",
            "[%] Downloading Image #4 from https://welovecatsandkittens.com/wp-content/uploads/2018/03/cute-2.jpg\n",
            "[%] File Downloaded !\n",
            "\n",
            "[%] Downloading Image #5 from http://2.bp.blogspot.com/--mqQKXiTD0E/UIURXCYUxUI/AAAAAAAAHuQ/8jMmIdkdLX8/s1600/cats_desktop_1920x1200_hd-wallpaper-817100.jpeg\n",
            "[%] File Downloaded !\n",
            "\n",
            "[%] Downloading Image #6 from https://i.ytimg.com/vi/W-PBFMECvTE/maxresdefault.jpg\n",
            "[%] File Downloaded !\n",
            "\n",
            "[%] Downloading Image #7 from http://2.bp.blogspot.com/-yne2f8kYEZU/URNWyRZypQI/AAAAAAAAAbc/OxwZVmfpUZI/s1600/hungry-baby-cat-wallpaper.jpg\n",
            "[%] File Downloaded !\n",
            "\n",
            "[%] Downloading Image #8 from https://www.metaspoon.com/wp-content/uploads/2017/01/cutestcat-f.jpg\n",
            "[%] File Downloaded !\n",
            "\n",
            "[%] Downloading Image #9 from http://1.bp.blogspot.com/-Flgz-X52Sa8/T-xaP9vmUZI/AAAAAAAABBg/B8pL7lpfd8w/s1600/newsitemoet.jpeg\n",
            "[%] File Downloaded !\n",
            "\n",
            "[%] Downloading Image #10 from http://4.bp.blogspot.com/-d68l8RLoLc4/UWAJF-ofbJI/AAAAAAAAST4/SUJbO2Dz-RI/s1600/cat1.jpg\n",
            "[%] File Downloaded !\n",
            "\n",
            "[%] Downloading Image #11 from https://media.moddb.com/images/downloads/1/66/65404/Cute_cat_1.jpg\n",
            "[%] File Downloaded !\n",
            "\n",
            "[%] Downloading Image #12 from https://catzone-tcwebsites.netdna-ssl.com/wp-content/uploads/2014/09/453768-cats-cute.jpg\n",
            "[%] File Downloaded !\n",
            "\n",
            "[%] Downloading Image #13 from https://www.top13.net/wp-content/uploads/2016/09/cutest-kittens-ever-17.jpg\n",
            "[%] File Downloaded !\n",
            "\n",
            "[%] Downloading Image #14 from https://i.ytimg.com/vi/dqmiwhPy8Pw/maxresdefault.jpg\n",
            "[%] File Downloaded !\n",
            "\n",
            "[%] Downloading Image #15 from http://1.bp.blogspot.com/-TcQNuR4_1X0/URNWpLlDNRI/AAAAAAAAAZ4/tH_MlT3_TLQ/s1600/IndyKids-December-Online-Issue-History-of-Cats-kitten-who-looks-like-a-little-fuzzy-tiger-flickr-cat-box1.jpg\n",
            "[%] File Downloaded !\n",
            "\n",
            "[%] Downloading Image #16 from https://welovecatsandkittens.com/wp-content/uploads/2017/07/Time-for-an-.jpg\n",
            "[%] File Downloaded !\n",
            "\n",
            "[%] Downloading Image #17 from https://wallpapertag.com/wallpaper/full/d/d/b/881831-amazing-cute-kitten-pictures-wallpaper-1080x1920-cell-phone.jpg\n",
            "[%] File Downloaded !\n",
            "\n",
            "[%] Downloading Image #18 from http://getwallpapers.com/wallpaper/full/f/d/b/1129468-full-size-cute-cats-wallpaper-1080x1920-for-tablet.jpg\n",
            "[%] File Downloaded !\n",
            "\n",
            "[%] Downloading Image #19 from http://www.top13.net/wp-content/uploads/2016/09/cutest-kittens-ever-23.jpg\n",
            "[%] File Downloaded !\n",
            "\n",
            "[%] Downloading Image #20 from https://www.maxpixel.net/static/photo/640/Pets-Cute-Kitten-Cat-Pet-Young-Cat-Grey-Cats-2464434.jpg\n",
            "[%] File Downloaded !\n",
            "\n",
            "[%] Downloading Image #21 from http://www.top13.net/wp-content/uploads/2016/09/cutest-kittens-ever-18.jpg\n",
            "[%] File Downloaded !\n",
            "\n",
            "[%] Downloading Image #22 from https://welovecatsandkittens.com/wp-content/uploads/2014/09/cute-kitten-today.jpg\n",
            "[%] File Downloaded !\n",
            "\n",
            "[%] Downloading Image #23 from http://www.pbh2.com/wordpress/wp-content/uploads/2013/03/cutest-kitten-gifs.jpg\n",
            "[%] File Downloaded !\n",
            "\n",
            "[%] Downloading Image #24 from http://2.bp.blogspot.com/-SxPx6_sBLfY/T9uflRttTUI/AAAAAAAAAD4/3gZRfALWMiE/s1600/cute_cat_by_silentpain0.jpg\n",
            "[%] File Downloaded !\n",
            "\n",
            "[%] Downloading Image #25 from http://4.bp.blogspot.com/-MzZCzWI_6Xc/UIUQp1qPfzI/AAAAAAAAHpA/OTwHCJSWFAY/s1600/cats_animals_kittens_cat_kitten_cute_desktop_1680x1050_hd-wallpaper-753974.jpeg\n",
            "[%] File Downloaded !\n",
            "\n",
            "[%] Downloading Image #26 from https://squeaksandnibbles.com/wp-content/uploads/2019/06/Cute-cat-names-SN-long.jpg\n",
            "[Error]Invalid image, not saving https://squeaksandnibbles.com/wp-content/uploads/2019/06/Cute-cat-names-SN-long.jpg\n",
            "\n",
            "[!] Issue getting: https://squeaksandnibbles.com/wp-content/uploads/2019/06/Cute-cat-names-SN-long.jpg\n",
            "[!] Error:: No active exception to reraise\n",
            "[%] Downloading Image #26 from http://2.bp.blogspot.com/-k_IJQ-pxheI/T9ufytUpqaI/AAAAAAAAAEI/4SfFDfvy_RY/s1600/Cute-Cats-008.jpg\n",
            "[%] File Downloaded !\n",
            "\n",
            "[%] Downloading Image #27 from https://wallpapers.pictures/media/two-playful-kittens-wallpaper-background-1080x1920.jpg\n",
            "[%] File Downloaded !\n",
            "\n",
            "[%] Downloading Image #28 from https://tailandfur.com/wp-content/uploads/2016/01/40-Beautiful-and-Cute-Kitten-Pictures-28.jpg\n",
            "[%] File Downloaded !\n",
            "\n",
            "[%] Downloading Image #29 from http://wondrouspics.com/wp-content/uploads/2011/12/Cute-Kitten2.jpg\n",
            "[%] File Downloaded !\n",
            "\n",
            "\n",
            "\n",
            "[!!]Indexing page: 2\n",
            "\n",
            "[%] Indexed 35 Images on Page 2.\n",
            "\n",
            "===============================================\n",
            "\n",
            "[%] Downloading Image #30 from http://www.reportingday.com/wp-content/uploads/2018/06/Cat-Sleeping-Pics.jpg\n",
            "[%] File Downloaded !\n",
            "\n",
            "\n",
            "\n",
            "[%] Done. Downloaded 30 images.\n",
            "\n",
            "===============================================\n",
            "\n"
          ],
          "name": "stdout"
        }
      ]
    },
    {
      "cell_type": "code",
      "metadata": {
        "id": "UuiU62MZtlOy"
      },
      "source": [
        ""
      ],
      "execution_count": null,
      "outputs": []
    },
    {
      "cell_type": "code",
      "metadata": {
        "colab": {
          "base_uri": "https://localhost:8080/"
        },
        "id": "tmVJZzB6twTo",
        "outputId": "1db4f9f6-d98b-4f55-fa99-6212ee9f69ea"
      },
      "source": [
        "from bing_image_downloader import downloader\r\n",
        "downloader.download(\"monkeys\",limit=30,output_dir=\"images\",adult_filter_off=True)"
      ],
      "execution_count": 10,
      "outputs": [
        {
          "output_type": "stream",
          "text": [
            "\n",
            "\n",
            "[!!]Indexing page: 1\n",
            "\n",
            "[%] Indexed 30 Images on Page 1.\n",
            "\n",
            "===============================================\n",
            "\n",
            "[%] Downloading Image #1 from https://bsj.berkeley.edu/wp-content/uploads/2019/04/20FLOATER-superJumbo-v2.jpg\n",
            "[!] Issue getting: https://bsj.berkeley.edu/wp-content/uploads/2019/04/20FLOATER-superJumbo-v2.jpg\n",
            "[!] Error:: <urlopen error [SSL: CERTIFICATE_VERIFY_FAILED] certificate verify failed (_ssl.c:852)>\n",
            "[%] Downloading Image #1 from https://northcoastcourier.co.za/wp-content/uploads/sites/73/2016/02/online-monkeys-1.jpg\n",
            "[%] File Downloaded !\n",
            "\n",
            "[%] Downloading Image #2 from https://cdn.britannica.com/06/128906-050-8E46C828/Rhesus-monkey.jpg\n",
            "[%] File Downloaded !\n",
            "\n",
            "[%] Downloading Image #3 from https://www.japantimes.co.jp/wp-content/uploads/2017/03/p21-nicol-monkeys-b-20170305-e1488613964660.jpg\n",
            "[%] File Downloaded !\n",
            "\n",
            "[%] Downloading Image #4 from https://i.pinimg.com/736x/a4/50/cd/a450cd5a468c58b888ec6318fae84ad1.jpg\n",
            "[%] File Downloaded !\n",
            "\n",
            "[%] Downloading Image #5 from https://www.hakaimagazine.com/wp-content/uploads/looking-at-leaf-proboscis-monkeys.jpg\n",
            "[%] File Downloaded !\n",
            "\n",
            "[%] Downloading Image #6 from http://1.bp.blogspot.com/-yFBK9fGDuR4/T4ZQ4_cQXcI/AAAAAAAAAsc/G1grOgMAT7Q/s1600/Xi+Zhinong+photograph+snub+nosed+monkeys.jpg\n",
            "[%] File Downloaded !\n",
            "\n",
            "[%] Downloading Image #7 from https://hiariana.com/wp-content/uploads/2019/02/animals-cute-monkeys-60023.jpg\n",
            "[%] File Downloaded !\n",
            "\n",
            "[%] Downloading Image #8 from https://pixfeeds.com/images/animals/monkeys/1280-479809844-cute-golden-snub-nosed-monkey.jpg\n",
            "[%] File Downloaded !\n",
            "\n",
            "[%] Downloading Image #9 from http://2.bp.blogspot.com/-G-oa3ju-224/UYygLFDBk-I/AAAAAAAAgyI/1CKKYSDX5ps/s1600/0000747a_big.jpeg\n",
            "[%] File Downloaded !\n",
            "\n",
            "[%] Downloading Image #10 from https://pixfeeds.com/images/animals/monkeys/1280-144796796-three-monkeys.jpg\n",
            "[%] File Downloaded !\n",
            "\n",
            "[%] Downloading Image #11 from https://www.sydney.edu.au/dam/corporate/images/news-and-opinion/news/2018/june/monkeysspring.jpg/_jcr_content/renditions/cq5dam.web.1280.1280.jpeg\n",
            "[%] File Downloaded !\n",
            "\n",
            "[%] Downloading Image #12 from https://s1.ibtimes.com/sites/www.ibtimes.com/files/styles/embed/public/2015/12/09/capuchin-monkeys.jpg\n",
            "[%] File Downloaded !\n",
            "\n",
            "[%] Downloading Image #13 from https://d.newsweek.com/en/full/1592061/monkey-stock-macaque-getty.jpg\n",
            "[%] File Downloaded !\n",
            "\n",
            "[%] Downloading Image #14 from https://asianexposures.files.wordpress.com/2012/04/monkeysgalore-4.jpg?w=1200\n",
            "[%] File Downloaded !\n",
            "\n",
            "[%] Downloading Image #15 from http://static1.businessinsider.com/image/58d2c0f2112f7043268b5e0b-2400/undefined\n",
            "[%] File Downloaded !\n",
            "\n",
            "[%] Downloading Image #16 from https://www.mercurynews.com/wp-content/uploads/2018/01/florida-wild-monkeys-virus-e1515778882110.jpg?w=1024&amp;h=619\n",
            "[%] File Downloaded !\n",
            "\n",
            "[%] Downloading Image #17 from http://canadajournal.net/wp-content/uploads/2016/02/Scientists-say-problems-with-Floridas-wild-monkeys-overstated.jpg\n",
            "[%] File Downloaded !\n",
            "\n",
            "[%] Downloading Image #18 from http://www.monkeyworlds.com/wp-content/uploads/habitat_distribution_monkeys.jpg\n",
            "[%] File Downloaded !\n",
            "\n",
            "[%] Downloading Image #19 from https://scx2.b-cdn.net/gfx/news/hires/2018/monkeyseatfa.jpg\n",
            "[%] File Downloaded !\n",
            "\n",
            "[%] Downloading Image #20 from http://www.japantimes.co.jp/wp-content/uploads/2016/02/n-monkeys-a-20160204.jpg\n",
            "[%] File Downloaded !\n",
            "\n",
            "[%] Downloading Image #21 from https://thehumanevolutionblog.files.wordpress.com/2014/10/vervetmonkeys.jpg\n",
            "[%] File Downloaded !\n",
            "\n",
            "[%] Downloading Image #22 from https://2.bp.blogspot.com/-juFBNo43GWY/URNZJzBPjxI/AAAAAAAAAgU/ZymnZIRKGW0/s1600/preusss-monkey-twins.jpg\n",
            "[%] File Downloaded !\n",
            "\n",
            "[%] Downloading Image #23 from https://1.bp.blogspot.com/-0cEPFgC3aXs/Ti-nHqmp8uI/AAAAAAAADiE/tE-EtmkccB4/s640/Bagik.jpg\n",
            "[%] File Downloaded !\n",
            "\n",
            "[%] Downloading Image #24 from https://lh5.googleusercontent.com/-LvkpSDEVjes/TXdtB6tqBTI/AAAAAAAABj0/_hDv2XXwTZY/s1600/800px-Vervet_Monkeys_in_Samburu.jpg\n",
            "[%] File Downloaded !\n",
            "\n",
            "[%] Downloading Image #25 from https://www.nhm.ac.uk/content/dam/nhmwww/discover/thomas-kokta/snowmonkeys-thomas-two-column.jpg\n",
            "[%] File Downloaded !\n",
            "\n",
            "[%] Downloading Image #26 from https://www.hakaimagazine.com/wp-content/uploads/header-proboscis-monkeys.jpg\n",
            "[%] File Downloaded !\n",
            "\n",
            "[%] Downloading Image #27 from http://www.kickassfacts.com/wp-content/uploads/2017/02/monkeys-facts.jpg\n",
            "[%] File Downloaded !\n",
            "\n",
            "[%] Downloading Image #28 from https://i.ytimg.com/vi/4AvjK-dNpj8/maxresdefault.jpg\n",
            "[%] File Downloaded !\n",
            "\n",
            "[%] Downloading Image #29 from https://www.sciencenews.org/wp-content/uploads/2020/06/062520_bb_recursion_feat-1028x579.jpg\n",
            "[%] File Downloaded !\n",
            "\n",
            "\n",
            "\n",
            "[!!]Indexing page: 2\n",
            "\n",
            "[%] Indexed 35 Images on Page 2.\n",
            "\n",
            "===============================================\n",
            "\n",
            "[%] Downloading Image #30 from https://bsj.berkeley.edu/wp-content/uploads/2019/04/20FLOATER-superJumbo-v2.jpg\n",
            "[!] Issue getting: https://bsj.berkeley.edu/wp-content/uploads/2019/04/20FLOATER-superJumbo-v2.jpg\n",
            "[!] Error:: <urlopen error [SSL: CERTIFICATE_VERIFY_FAILED] certificate verify failed (_ssl.c:852)>\n",
            "[%] Downloading Image #30 from https://northcoastcourier.co.za/wp-content/uploads/sites/73/2016/02/online-monkeys-1.jpg\n",
            "[%] File Downloaded !\n",
            "\n",
            "\n",
            "\n",
            "[%] Done. Downloaded 30 images.\n",
            "\n",
            "===============================================\n",
            "\n"
          ],
          "name": "stdout"
        }
      ]
    },
    {
      "cell_type": "code",
      "metadata": {
        "id": "jxfyOovYuvKa"
      },
      "source": [
        "import os\r\n",
        "import matplotlib.pyplot as plt\r\n",
        "import numpy as np\r\n",
        "from skimage.io import imread\r\n",
        "from skimage.transform import resize"
      ],
      "execution_count": 11,
      "outputs": []
    },
    {
      "cell_type": "code",
      "metadata": {
        "id": "TCaHZGwduvVR"
      },
      "source": [
        "target = []\r\n",
        "images = []\r\n",
        "flat_data = []"
      ],
      "execution_count": 12,
      "outputs": []
    },
    {
      "cell_type": "code",
      "metadata": {
        "id": "o-rfeascuvpq"
      },
      "source": [
        "DATADIR = \"/content/images\"\r\n",
        "CATEGORIES = ['cute cats','monkeys']"
      ],
      "execution_count": 13,
      "outputs": []
    },
    {
      "cell_type": "code",
      "metadata": {
        "id": "TTl1PqLbuvy6"
      },
      "source": [
        "for category in CATEGORIES:\r\n",
        "  class_num = CATEGORIES.index(category)\r\n",
        "  path = os.path.join(DATADIR,category)\r\n",
        "  for img in os.listdir(path):\r\n",
        "    img_array = imread(os.path.join(path,img))\r\n",
        "    img_resized = resize(img_array,(150,150,3))\r\n",
        "    flat_data.append(img_resized.flatten())\r\n",
        "    images.append(img_resized)\r\n",
        "    target.append(class_num)"
      ],
      "execution_count": 14,
      "outputs": []
    },
    {
      "cell_type": "code",
      "metadata": {
        "id": "s68QIrW-0Gma"
      },
      "source": [
        "flat_data = np.array(flat_data)\r\n",
        "target = np.array(target)\r\n",
        "images = np.array(images)"
      ],
      "execution_count": 15,
      "outputs": []
    },
    {
      "cell_type": "code",
      "metadata": {
        "colab": {
          "base_uri": "https://localhost:8080/",
          "height": 283
        },
        "id": "FTP3E2-20GwG",
        "outputId": "2eaaca5f-d70f-45e9-b59b-5a636e3592ea"
      },
      "source": [
        "unique,count = np.unique(target,return_counts= True)\r\n",
        "plt.bar(CATEGORIES,count)"
      ],
      "execution_count": 16,
      "outputs": [
        {
          "output_type": "execute_result",
          "data": {
            "text/plain": [
              "<BarContainer object of 2 artists>"
            ]
          },
          "metadata": {
            "tags": []
          },
          "execution_count": 16
        },
        {
          "output_type": "display_data",
          "data": {
            "image/png": "[encoded data removed]",
            "text/plain": [
              "<Figure size 432x288 with 1 Axes>"
            ]
          },
          "metadata": {
            "tags": [],
            "needs_background": "light"
          }
        }
      ]
    },
    {
      "cell_type": "code",
      "metadata": {
        "id": "MbNHOCk40HAe"
      },
      "source": [
        "from sklearn.model_selection import train_test_split\r\n",
        "x_train, x_test,y_train,y_test = train_test_split(flat_data,target,test_size=0.3,random_state=109)"
      ],
      "execution_count": 17,
      "outputs": []
    },
    {
      "cell_type": "code",
      "metadata": {
        "colab": {
          "base_uri": "https://localhost:8080/"
        },
        "id": "UYLiz76auv5S",
        "outputId": "827e9cf0-88fe-42a2-ec0e-09e25b4ebdf2"
      },
      "source": [
        "from sklearn.model_selection import GridSearchCV\r\n",
        "from sklearn import svm\r\n",
        "param_grid = [\r\n",
        "              {'C':[1,10,100,1000],'kernel':['linear']},\r\n",
        "              {'C':[1,10,100,1000],'gamma':[0.001,0.0001],'kernel':['rbf']},\r\n",
        "]\r\n",
        "\r\n",
        "svc = svm.SVC(probability=True)\r\n",
        "clf = GridSearchCV(svc,param_grid)\r\n",
        "clf.fit(x_train,y_train)\r\n",
        "\r\n"
      ],
      "execution_count": 18,
      "outputs": [
        {
          "output_type": "execute_result",
          "data": {
            "text/plain": [
              "GridSearchCV(cv=None, error_score=nan,\n",
              "             estimator=SVC(C=1.0, break_ties=False, cache_size=200,\n",
              "                           class_weight=None, coef0=0.0,\n",
              "                           decision_function_shape='ovr', degree=3,\n",
              "                           gamma='scale', kernel='rbf', max_iter=-1,\n",
              "                           probability=True, random_state=None, shrinking=True,\n",
              "                           tol=0.001, verbose=False),\n",
              "             iid='deprecated', n_jobs=None,\n",
              "             param_grid=[{'C': [1, 10, 100, 1000], 'kernel': ['linear']},\n",
              "                         {'C': [1, 10, 100, 1000], 'gamma': [0.001, 0.0001],\n",
              "                          'kernel': ['rbf']}],\n",
              "             pre_dispatch='2*n_jobs', refit=True, return_train_score=False,\n",
              "             scoring=None, verbose=0)"
            ]
          },
          "metadata": {
            "tags": []
          },
          "execution_count": 18
        }
      ]
    },
    {
      "cell_type": "code",
      "metadata": {
        "colab": {
          "base_uri": "https://localhost:8080/"
        },
        "id": "X1rA1vc48855",
        "outputId": "3e440eaf-c344-4f7f-ccef-37683aab37bd"
      },
      "source": [
        "y_pred = clf.predict(x_test)\r\n",
        "y_pred"
      ],
      "execution_count": 19,
      "outputs": [
        {
          "output_type": "execute_result",
          "data": {
            "text/plain": [
              "array([1, 1, 1, 1, 1, 1, 1, 1, 1, 1, 1, 1, 1, 1, 1, 1, 0, 1])"
            ]
          },
          "metadata": {
            "tags": []
          },
          "execution_count": 19
        }
      ]
    },
    {
      "cell_type": "code",
      "metadata": {
        "colab": {
          "base_uri": "https://localhost:8080/"
        },
        "id": "4tyQIw9xAc4Z",
        "outputId": "23d296c4-1c66-4dd1-a954-3017f4c0d0fc"
      },
      "source": [
        "y_test"
      ],
      "execution_count": 20,
      "outputs": [
        {
          "output_type": "execute_result",
          "data": {
            "text/plain": [
              "array([0, 0, 0, 1, 0, 0, 1, 0, 0, 1, 1, 1, 1, 0, 1, 0, 0, 0])"
            ]
          },
          "metadata": {
            "tags": []
          },
          "execution_count": 20
        }
      ]
    },
    {
      "cell_type": "code",
      "metadata": {
        "id": "5FV9s1wWAiAi"
      },
      "source": [
        "from sklearn.metrics import accuracy_score,confusion_matrix\r\n"
      ],
      "execution_count": 21,
      "outputs": []
    },
    {
      "cell_type": "code",
      "metadata": {
        "colab": {
          "base_uri": "https://localhost:8080/"
        },
        "id": "OLHIaOR1BQUN",
        "outputId": "cc34d3e2-6dbf-4fca-c406-c783be9a1de3"
      },
      "source": [
        "accuracy_score(y_pred,y_test)"
      ],
      "execution_count": 24,
      "outputs": [
        {
          "output_type": "execute_result",
          "data": {
            "text/plain": [
              "0.4444444444444444"
            ]
          },
          "metadata": {
            "tags": []
          },
          "execution_count": 24
        }
      ]
    },
    {
      "cell_type": "code",
      "metadata": {
        "colab": {
          "base_uri": "https://localhost:8080/"
        },
        "id": "N5WbyH_j1X_n",
        "outputId": "5cb45c00-3208-4a51-aa3b-b9e78325e338"
      },
      "source": [
        "confusion_matrix(y_pred,y_test)"
      ],
      "execution_count": 23,
      "outputs": [
        {
          "output_type": "execute_result",
          "data": {
            "text/plain": [
              "array([[ 1,  0],\n",
              "       [10,  7]])"
            ]
          },
          "metadata": {
            "tags": []
          },
          "execution_count": 23
        }
      ]
    },
    {
      "cell_type": "code",
      "metadata": {
        "id": "KYh0ThK73H_i"
      },
      "source": [
        "import pickle \r\n",
        "pickle.dump(clf,open('img_model.p','wb'))"
      ],
      "execution_count": 25,
      "outputs": []
    },
    {
      "cell_type": "code",
      "metadata": {
        "id": "splcGFzI33lZ"
      },
      "source": [
        "model = pickle.load(open('img_model.p','rb'))"
      ],
      "execution_count": 26,
      "outputs": []
    },
    {
      "cell_type": "code",
      "metadata": {
        "colab": {
          "base_uri": "https://localhost:8080/",
          "height": 344
        },
        "id": "cm9xlBEH4iww",
        "outputId": "8fe47011-76e6-4db6-e17b-d1b8545fb00a"
      },
      "source": [
        "#testing a brand new image\r\n",
        "flat_data = []\r\n",
        "url = input('Enter the URL ')\r\n",
        "img = imread(url)\r\n",
        "img_resized = resize(img,(150,150,3))\r\n",
        "flat_data.append(img_resized.flatten())\r\n",
        "flat_data = np.array(flat_data)\r\n",
        "print(img.shape)\r\n",
        "plt.imshow(img_resized)\r\n",
        "y_out = model.predict(flat_data)\r\n",
        "y_out = CATEGORIES[y_out[0]]\r\n",
        "print(f'PREDICTED OUTPUT : {y_out}')"
      ],
      "execution_count": 37,
      "outputs": [
        {
          "output_type": "stream",
          "text": [
            "Enter the URL https://imagesvc.meredithcorp.io/v3/mm/image?url=https%3A%2F%2Fstatic.onecms.io%2Fwp-content%2Fuploads%2Fsites%2F47%2F2020%2F06%2F26%2Ftiny-white-kitten-873941684-2000.jpg\n",
            "(2000, 1600, 3)\n",
            "PREDICTED OUTPUT : cute cats\n"
          ],
          "name": "stdout"
        },
        {
          "output_type": "display_data",
          "data": {
            "image/png": "[encoded data removed]",
            "text/plain": [
              "<Figure size 432x288 with 1 Axes>"
            ]
          },
          "metadata": {
            "tags": [],
            "needs_background": "light"
          }
        }
      ]
    },
    {
      "cell_type": "code",
      "metadata": {
        "id": "KBLLBDwNBMhe"
      },
      "source": [
        ""
      ],
      "execution_count": null,
      "outputs": []
    }
  ]
}
